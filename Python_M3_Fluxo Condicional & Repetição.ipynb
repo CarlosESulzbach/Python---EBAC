{
 "cells": [
  {
   "cell_type": "markdown",
   "metadata": {
    "id": "KJqp9AANOCtf"
   },
   "source": [
    "<img src=\"https://raw.githubusercontent.com/andre-marcos-perez/ebac-course-utils/main/media/logo/newebac_logo_black_half.png\" alt=\"ebac-logo\">\n",
    "\n",
    "---\n",
    "\n",
    "# **Módulo** | Python: Fluxo Condicional & Repetição\n",
    "Caderno de **Exercícios**<br>\n",
    "Professor [André Perez](https://www.linkedin.com/in/andremarcosperez/)\n",
    "\n",
    "---"
   ]
  },
  {
   "cell_type": "markdown",
   "metadata": {
    "id": "d9jDtUbDOE1-"
   },
   "source": [
    "# **Tópicos**\n",
    "\n",
    "<ol type=\"1\">\n",
    "  <li>Estrutura condicional if / else / elif;</li>\n",
    "  <li>Estrutura condicional try / catch / finally;</li>\n",
    "  <li>Estrutura de repetição for / in.</li>\n",
    "</ol>"
   ]
  },
  {
   "cell_type": "markdown",
   "metadata": {
    "id": "SmoHgt-lwkpD"
   },
   "source": [
    "---"
   ]
  },
  {
   "cell_type": "markdown",
   "metadata": {
    "id": "GABI6OW8OfQ2"
   },
   "source": [
    "# **Exercícios**"
   ]
  },
  {
   "cell_type": "markdown",
   "metadata": {
    "id": "0h9Dprj5SrIE"
   },
   "source": [
    "## 1\\. Estrutura condicional for / in"
   ]
  },
  {
   "cell_type": "markdown",
   "metadata": {
    "id": "dKsLPqttSrIF"
   },
   "source": [
    "Na lista `propaganda_online` abaixo, estão presente os dados de usuários que acessaram um determinado site e se o mesmo clicou em uma propaganda."
   ]
  },
  {
   "cell_type": "code",
   "execution_count": 23,
   "metadata": {
    "id": "_y_DLw6pSrIH"
   },
   "outputs": [],
   "source": [
    "propaganda_online = [\n",
    "  {'tempo_gasto_site': 68.95, 'idade': 35, 'renda_area': 61833.90, 'tempo_gasto_internet': 256.09, 'cidade': 'Wrightburgh', 'pais': 'Tunisia', 'clicou_no_ad': 0},\n",
    "  {'tempo_gasto_site': 80.23, 'idade': 31, 'renda_area': 68441.85, 'tempo_gasto_internet': 193.77, 'cidade': 'West Jodi', 'pais': 'Nauru', 'clicou_no_ad': 0},\n",
    "  {'tempo_gasto_site': 69.47, 'idade': 26, 'renda_area': 59785.94, 'tempo_gasto_internet': 236.50, 'cidade': 'Davidton', 'pais': 'San Marino', 'clicou_no_ad': 0},\n",
    "  {'tempo_gasto_site': 68.37, 'idade': 35, 'renda_area': 73889.99, 'tempo_gasto_internet': 225.58, 'cidade': 'South Manuel', 'pais': 'Iceland', 'clicou_no_ad': 0},\n",
    "  {'tempo_gasto_site': 88.91, 'idade': 33, 'renda_area': 53852.85, 'tempo_gasto_internet': 208.36, 'cidade': 'Brandonstad', 'pais': 'Myanmar', 'clicou_no_ad': 0},\n",
    "  {'tempo_gasto_site': None, 'idade': 48, 'renda_area': 24593.33, 'tempo_gasto_internet': 131.76, 'cidade': 'Port Jefferybury', 'pais': 'Australia', 'clicou_no_ad': 1},\n",
    "  {'tempo_gasto_site': 74.53, 'idade': 30, 'renda_area': 68862.00, 'tempo_gasto_internet': 221.51, 'cidade': 'West Colin', 'pais': 'Grenada'},\n",
    "  {'tempo_gasto_site': 69.88, 'idade': 20, 'renda_area': 55642.32, 'tempo_gasto_internet': 183.82, 'cidade': 'Ramirezton', 'pais': 'Ghana', 'clicou_no_ad': 0}\n",
    "]"
   ]
  },
  {
   "cell_type": "code",
   "execution_count": 24,
   "metadata": {
    "colab": {
     "base_uri": "https://localhost:8080/"
    },
    "id": "cyMWqs_t8pWA",
    "outputId": "2c9936ea-d7cb-4afe-a9bb-7fa6beda15c9"
   },
   "outputs": [
    {
     "name": "stdout",
     "output_type": "stream",
     "text": [
      "{'tempo_gasto_site': 68.95, 'idade': 35, 'renda_area': 61833.9, 'tempo_gasto_internet': 256.09, 'cidade': 'Wrightburgh', 'pais': 'Tunisia', 'clicou_no_ad': 0}\n",
      "{'tempo_gasto_site': 80.23, 'idade': 31, 'renda_area': 68441.85, 'tempo_gasto_internet': 193.77, 'cidade': 'West Jodi', 'pais': 'Nauru', 'clicou_no_ad': 0}\n",
      "{'tempo_gasto_site': 69.47, 'idade': 26, 'renda_area': 59785.94, 'tempo_gasto_internet': 236.5, 'cidade': 'Davidton', 'pais': 'San Marino', 'clicou_no_ad': 0}\n",
      "{'tempo_gasto_site': 68.37, 'idade': 35, 'renda_area': 73889.99, 'tempo_gasto_internet': 225.58, 'cidade': 'South Manuel', 'pais': 'Iceland', 'clicou_no_ad': 0}\n",
      "{'tempo_gasto_site': 88.91, 'idade': 33, 'renda_area': 53852.85, 'tempo_gasto_internet': 208.36, 'cidade': 'Brandonstad', 'pais': 'Myanmar', 'clicou_no_ad': 0}\n",
      "{'tempo_gasto_site': None, 'idade': 48, 'renda_area': 24593.33, 'tempo_gasto_internet': 131.76, 'cidade': 'Port Jefferybury', 'pais': 'Australia', 'clicou_no_ad': 1}\n",
      "{'tempo_gasto_site': 74.53, 'idade': 30, 'renda_area': 68862.0, 'tempo_gasto_internet': 221.51, 'cidade': 'West Colin', 'pais': 'Grenada'}\n",
      "{'tempo_gasto_site': 69.88, 'idade': 20, 'renda_area': 55642.32, 'tempo_gasto_internet': 183.82, 'cidade': 'Ramirezton', 'pais': 'Ghana', 'clicou_no_ad': 0}\n"
     ]
    }
   ],
   "source": [
    "for dado_de_usuario in propaganda_online:\n",
    "  print(dado_de_usuario)"
   ]
  },
  {
   "cell_type": "markdown",
   "metadata": {
    "id": "gkDkwqBQSrIS"
   },
   "source": [
    "1.1. Imprime os seguintes valores da lista:\n",
    "`tempo_gasto_site` e `idade`\n",
    "\n",
    "Dica: Utilize os conceitos de chave e valor de elementos de uma lista para selecionar os valores de uma chave (lista[chave]), conforme exemplo abaixo, na qual imprime somente os dados da chave `cidade`:"
   ]
  },
  {
   "cell_type": "code",
   "execution_count": 25,
   "metadata": {
    "colab": {
     "base_uri": "https://localhost:8080/"
    },
    "id": "pbEQTEH2SrIT",
    "outputId": "c9ab5c3d-6929-4a9d-952f-5f92ebd4e584"
   },
   "outputs": [
    {
     "name": "stdout",
     "output_type": "stream",
     "text": [
      "Wrightburgh\n",
      "West Jodi\n",
      "Davidton\n",
      "South Manuel\n",
      "Brandonstad\n",
      "Port Jefferybury\n",
      "West Colin\n",
      "Ramirezton\n"
     ]
    }
   ],
   "source": [
    "for dado_de_usuario in propaganda_online:\n",
    "    print(dado_de_usuario['cidade'])"
   ]
  },
  {
   "cell_type": "markdown",
   "metadata": {
    "id": "kI_LC0SQSrIV"
   },
   "source": [
    "Extrair os valores da chave tempo_gasto_site"
   ]
  },
  {
   "cell_type": "code",
   "execution_count": 26,
   "metadata": {
    "colab": {
     "base_uri": "https://localhost:8080/"
    },
    "id": "tWQNPaN3SrIX",
    "outputId": "70cdef30-3214-407e-8b73-a4ca6a84d78a"
   },
   "outputs": [
    {
     "name": "stdout",
     "output_type": "stream",
     "text": [
      "68.95\n",
      "80.23\n",
      "69.47\n",
      "68.37\n",
      "88.91\n",
      "None\n",
      "74.53\n",
      "69.88\n"
     ]
    }
   ],
   "source": [
    "for dado_de_usuario in propaganda_online:\n",
    "      print(dado_de_usuario['tempo_gasto_site'])"
   ]
  },
  {
   "cell_type": "markdown",
   "metadata": {
    "id": "KExBpZixSrIY"
   },
   "source": [
    "Extrair os valores da chave idade"
   ]
  },
  {
   "cell_type": "code",
   "execution_count": 27,
   "metadata": {
    "colab": {
     "base_uri": "https://localhost:8080/"
    },
    "id": "9KpvaCheSrIZ",
    "outputId": "8a0eca09-e12d-4c1a-9123-3c6404bb09d6"
   },
   "outputs": [
    {
     "name": "stdout",
     "output_type": "stream",
     "text": [
      "35\n",
      "31\n",
      "26\n",
      "35\n",
      "33\n",
      "48\n",
      "30\n",
      "20\n"
     ]
    }
   ],
   "source": [
    "for dado_de_usuario in propaganda_online:\n",
    "    print(dado_de_usuario['idade'])"
   ]
  },
  {
   "cell_type": "markdown",
   "metadata": {
    "id": "cyJdNg5bSrIa"
   },
   "source": [
    "## 2\\. Estrutura condicional if / else"
   ]
  },
  {
   "cell_type": "markdown",
   "metadata": {
    "id": "xqVXMIy2SrIa"
   },
   "source": [
    "2.1. Utilize a estrutura if/else para imprimir a cidade dos usuários que gastaram mais de 100 horas de tempo na internet\n",
    "\n",
    "Dica: Após a iteração dos elementos da lista (Através da estrutura condicional FOR),  utilize a estrutura if/else para criar a condição dos valores da chave `tempo_gasto_internet`"
   ]
  },
  {
   "cell_type": "code",
   "execution_count": 28,
   "metadata": {
    "colab": {
     "base_uri": "https://localhost:8080/"
    },
    "id": "YM94BNvkSrIb",
    "outputId": "d13e870e-974b-4901-af9d-c3cb2a0c1c6b"
   },
   "outputs": [
    {
     "name": "stdout",
     "output_type": "stream",
     "text": [
      "Wrightburgh\n",
      "West Jodi\n",
      "Davidton\n",
      "South Manuel\n",
      "Brandonstad\n",
      "Port Jefferybury\n",
      "West Colin\n",
      "Ramirezton\n"
     ]
    }
   ],
   "source": [
    "for dado_de_usuario in propaganda_online:\n",
    "    if dado_de_usuario['tempo_gasto_internet'] > 100:\n",
    "      print(dado_de_usuario['cidade'])"
   ]
  },
  {
   "cell_type": "markdown",
   "metadata": {
    "id": "N13svlK7SrIc"
   },
   "source": [
    "## 3\\. Estrutura condicional try / except"
   ]
  },
  {
   "cell_type": "markdown",
   "metadata": {
    "id": "oQxXKdDXSrIc"
   },
   "source": [
    "3.1. Utilize a estrutura try/except para imprimir as cidades dos usuários que passaram mais de 70 segundos no site.\n",
    "\n",
    "Dica: Realize o tratamento de exceções dentro da execução da iteração dos elementos da lista"
   ]
  },
  {
   "cell_type": "code",
   "execution_count": 29,
   "metadata": {
    "colab": {
     "base_uri": "https://localhost:8080/"
    },
    "id": "McLC9KbySrId",
    "outputId": "6d33675a-03d2-41e9-e7c0-19e9421c6ee3"
   },
   "outputs": [
    {
     "name": "stdout",
     "output_type": "stream",
     "text": [
      "West Jodi\n",
      "Brandonstad\n",
      "West Colin\n"
     ]
    }
   ],
   "source": [
    "for dado_de_usuario in propaganda_online:\n",
    "    try:\n",
    "        if dado_de_usuario['tempo_gasto_site'] > 70:\n",
    "          print(dado_de_usuario['cidade'])\n",
    "    except TypeError:\n",
    "        dado_de_usuario['tempo_gasto_site'] == 0"
   ]
  },
  {
   "cell_type": "markdown",
   "metadata": {
    "id": "bKI_YHROSrIe"
   },
   "source": [
    "# Exercício bônus"
   ]
  },
  {
   "cell_type": "markdown",
   "metadata": {
    "id": "muD1vxozykSC"
   },
   "source": [
    "## 1\\. Dados de interação de usuários com propagandas online"
   ]
  },
  {
   "cell_type": "markdown",
   "metadata": {
    "id": "KI9zQRT2xa7m"
   },
   "source": [
    "1.1. Crie uma lista chamada `paises` com o pais dos usuários com mais de 30 anos.\n",
    "\n",
    "Dica: Para armazenar os países dos usuários na lista `paises` utilize o método append()."
   ]
  },
  {
   "cell_type": "code",
   "execution_count": 30,
   "metadata": {
    "colab": {
     "base_uri": "https://localhost:8080/"
    },
    "id": "fvYOUhoN-dxd",
    "outputId": "eb2d5843-4dd0-4ae0-a41a-f8541e395d13"
   },
   "outputs": [
    {
     "name": "stdout",
     "output_type": "stream",
     "text": [
      "['Tunisia', 'Nauru', 'Iceland', 'Myanmar', 'Australia']\n"
     ]
    }
   ],
   "source": [
    "paises = []\n",
    "for dado_de_usuario in propaganda_online:\n",
    "  if dado_de_usuario['idade'] > 30:\n",
    "    paises.append(dado_de_usuario['pais'])\n",
    "\n",
    "print(paises)"
   ]
  },
  {
   "cell_type": "markdown",
   "metadata": {
    "id": "zMN1Q3jdwoJm"
   },
   "source": [
    "---"
   ]
  },
  {
   "cell_type": "markdown",
   "metadata": {
    "id": "LU_VIEdD_PrZ"
   },
   "source": [
    "1.2. Crie uma lista chamada `leads` com a renda dos usuários que clicaram na propaganda.\n",
    "\n",
    "Dica: Para armazenar a renda dos usuários na lista `leads` utilize o método append()."
   ]
  },
  {
   "cell_type": "code",
   "execution_count": 32,
   "metadata": {
    "colab": {
     "base_uri": "https://localhost:8080/"
    },
    "id": "3mTbsme4_Pr0",
    "outputId": "d1a614dd-9537-4f10-c7af-e28aa578e732"
   },
   "outputs": [
    {
     "name": "stdout",
     "output_type": "stream",
     "text": [
      "[24593.33]\n"
     ]
    }
   ],
   "source": [
    "leads = []\n",
    "\n",
    "for dado_de_usuario in propaganda_online:\n",
    "  try:\n",
    "    if dado_de_usuario['clicou_no_ad'] > 0:\n",
    "      leads.append(dado_de_usuario['renda_area'])\n",
    "  except KeyError:\n",
    "    continue\n",
    "\n",
    "print(leads)"
   ]
  },
  {
   "cell_type": "markdown",
   "metadata": {
    "id": "4_L-WULHAesN"
   },
   "source": [
    "---"
   ]
  }
 ],
 "metadata": {
  "colab": {
   "provenance": [],
   "toc_visible": true
  },
  "kernelspec": {
   "display_name": "Python 3 (ipykernel)",
   "language": "python",
   "name": "python3"
  },
  "language_info": {
   "codemirror_mode": {
    "name": "ipython",
    "version": 3
   },
   "file_extension": ".py",
   "mimetype": "text/x-python",
   "name": "python",
   "nbconvert_exporter": "python",
   "pygments_lexer": "ipython3",
   "version": "3.11.4"
  }
 },
 "nbformat": 4,
 "nbformat_minor": 1
}
