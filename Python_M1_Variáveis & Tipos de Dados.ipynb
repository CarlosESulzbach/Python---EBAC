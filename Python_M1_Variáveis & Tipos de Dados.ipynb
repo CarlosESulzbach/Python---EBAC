{
 "cells": [
  {
   "cell_type": "markdown",
   "metadata": {
    "id": "KJqp9AANOCtf"
   },
   "source": [
    "<img src=\"https://raw.githubusercontent.com/andre-marcos-perez/ebac-course-utils/main/media/logo/newebac_logo_black_half.png\" alt=\"ebac-logo\">\n",
    "\n",
    "---\n",
    "\n",
    "# **Módulo** | Python: Variáveis & Tipos de Dados\n",
    "Caderno de **Exercícios**<br>\n",
    "Professor [André Perez](https://www.linkedin.com/in/andremarcosperez/)\n",
    "\n",
    "---"
   ]
  },
  {
   "cell_type": "markdown",
   "metadata": {
    "id": "d9jDtUbDOE1-"
   },
   "source": [
    "# **Tópicos**\n",
    "\n",
    "<ol type=\"1\">\n",
    "  <li>Introdução ao Google Colab;</li>\n",
    "  <li>Variáveis;</li>\n",
    "  <li>Números;</li>\n",
    "  <li><i>Strings;</i></li>\n",
    "  <li>Boleanos.</li>\n",
    "</ol>"
   ]
  },
  {
   "cell_type": "markdown",
   "metadata": {
    "id": "SmoHgt-lwkpD"
   },
   "source": [
    "---"
   ]
  },
  {
   "cell_type": "markdown",
   "metadata": {
    "id": "GABI6OW8OfQ2"
   },
   "source": [
    "# **Exercícios**"
   ]
  },
  {
   "cell_type": "markdown",
   "metadata": {
    "id": "muD1vxozykSC"
   },
   "source": [
    "## 1\\. Google Colab"
   ]
  },
  {
   "cell_type": "markdown",
   "metadata": {
    "id": "ahrFfCuBxJKs"
   },
   "source": [
    "Crie uma célula de código que escreva o texto \"Olá mundo!\", utilize o comando `print`."
   ]
  },
  {
   "cell_type": "markdown",
   "metadata": {
    "id": "KI9zQRT2xa7m"
   },
   "source": [
    "Crie uma célua de texto e adicione uma imagem."
   ]
  },
  {
   "cell_type": "code",
   "execution_count": 23,
   "metadata": {
    "colab": {
     "base_uri": "https://localhost:8080/"
    },
    "id": "Pc9BYtxwUF2_",
    "outputId": "6e03919f-7b79-4834-c54d-eb6de2d435d1"
   },
   "outputs": [
    {
     "name": "stdout",
     "output_type": "stream",
     "text": [
      "Hello World!\n"
     ]
    }
   ],
   "source": [
    "print('Hello World!')"
   ]
  },
  {
   "cell_type": "markdown",
   "metadata": {
    "id": "zMN1Q3jdwoJm"
   },
   "source": [
    "---"
   ]
  },
  {
   "cell_type": "markdown",
   "metadata": {
    "id": "tFYOPLS3xiwe"
   },
   "source": [
    "## 2\\. Números"
   ]
  },
  {
   "cell_type": "markdown",
   "metadata": {
    "id": "O2G9gt7tx2c-"
   },
   "source": [
    "Preencha as células de código para preencher os valores de (A), (B) e (C) na tabela de ticket médio abaixo:\n",
    "\n",
    "<br>\n",
    "\n",
    "| Dia   | Valor Total Vendas | Qtd Total Vendas | Ticket Medio |\n",
    "|-------|--------------------|------------------|--------------|\n",
    "| 19/01 | (A)                | 3                | 320.52       |\n",
    "| 20/01 | 834.47             | (B)              | 119.21       |\n",
    "| 23/01 | 15378.12           | 5                | (C)          |"
   ]
  },
  {
   "cell_type": "code",
   "execution_count": 3,
   "metadata": {
    "colab": {
     "base_uri": "https://localhost:8080/"
    },
    "id": "nsrKH9EizNRD",
    "outputId": "db6f4d8a-55ea-4a13-87db-ea20026921d3"
   },
   "outputs": [
    {
     "name": "stdout",
     "output_type": "stream",
     "text": [
      "961.56\n"
     ]
    }
   ],
   "source": [
    "# (A)\n",
    "variavel_a = 3 * 320.52\n",
    "print(variavel_a)"
   ]
  },
  {
   "cell_type": "code",
   "execution_count": 5,
   "metadata": {
    "colab": {
     "base_uri": "https://localhost:8080/"
    },
    "id": "QQ1GBGHJzMmi",
    "outputId": "61589e74-fb7d-4065-ec92-4e6438bedb89"
   },
   "outputs": [
    {
     "name": "stdout",
     "output_type": "stream",
     "text": [
      "7\n"
     ]
    }
   ],
   "source": [
    "# (B)\n",
    "variavel_b = int(834.47 / 119.21)\n",
    "print(variavel_b)"
   ]
  },
  {
   "cell_type": "code",
   "execution_count": 7,
   "metadata": {
    "colab": {
     "base_uri": "https://localhost:8080/"
    },
    "id": "W-li0nSMzKNa",
    "outputId": "dfc5e588-128b-4403-de98-44610f01b263"
   },
   "outputs": [
    {
     "name": "stdout",
     "output_type": "stream",
     "text": [
      "3075.62\n"
     ]
    }
   ],
   "source": [
    "# (C)\n",
    "variavel_c = round(15378.12 / 5, 2)\n",
    "print(variavel_c)"
   ]
  },
  {
   "cell_type": "markdown",
   "metadata": {
    "id": "3eoP-Vj9yzh8"
   },
   "source": [
    "---"
   ]
  },
  {
   "cell_type": "markdown",
   "metadata": {
    "id": "yUJ6kdony6Pr"
   },
   "source": [
    "## 3\\. Strings"
   ]
  },
  {
   "cell_type": "markdown",
   "metadata": {
    "id": "KDuZpg-5zCvO"
   },
   "source": [
    "Aplique três métodos distintos na *string* abaixo, você pode conferir alguns métodos neste [link](https://www.w3schools.com/python/python_ref_string.asp):"
   ]
  },
  {
   "cell_type": "code",
   "execution_count": 18,
   "metadata": {
    "colab": {
     "base_uri": "https://localhost:8080/"
    },
    "id": "k9zbyf7BzjKj",
    "outputId": "4b00ecdc-8e88-474e-e6e9-ebb5a37c6fe7"
   },
   "outputs": [
    {
     "name": "stdout",
     "output_type": "stream",
     "text": [
      "['Roda mundo', ' roda gigante', ' roda moinho', ' roda pião.']\n",
      "roda mundo, roda gigante, roda moinho, roda pião.\n",
      "3\n",
      "4\n"
     ]
    }
   ],
   "source": [
    "cancao = 'Roda mundo, roda gigante, roda moinho, roda pião.'\n",
    "x = cancao.split(',')\n",
    "print(x)\n",
    "baixo = cancao.casefold()\n",
    "print(baixo)\n",
    "contar = cancao.count('roda')\n",
    "contar_baixo = baixo.count('roda')\n",
    "print(contar)\n",
    "print(contar_baixo)"
   ]
  },
  {
   "cell_type": "markdown",
   "metadata": {
    "id": "guZMHXVq0FnC"
   },
   "source": [
    "Extraia da string abaixo o valor da taxa **selic** na variável `selic` e o valor do **ano** na variavel `ano`. Imprima os valores na tela."
   ]
  },
  {
   "cell_type": "code",
   "execution_count": 21,
   "metadata": {
    "colab": {
     "base_uri": "https://localhost:8080/"
    },
    "id": "cbx_P4IQ0agK",
    "outputId": "af70a103-7160-4bd4-9787-5065e380c20c"
   },
   "outputs": [
    {
     "name": "stdout",
     "output_type": "stream",
     "text": [
      "0\n",
      "64\n"
     ]
    }
   ],
   "source": [
    "noticia = 'Selic vai a 2,75% e supera expectativas; é a primeira alta em 6 anos.'\n",
    "selic = noticia.find('Selic')\n",
    "print(selic)\n",
    "ano = noticia.find('ano')\n",
    "print(ano)"
   ]
  },
  {
   "cell_type": "markdown",
   "metadata": {
    "id": "wWzbu-OC0z3L"
   },
   "source": [
    "---"
   ]
  },
  {
   "cell_type": "markdown",
   "metadata": {
    "id": "no8w_Ati01xP"
   },
   "source": [
    "## 4\\. Booleanos"
   ]
  },
  {
   "cell_type": "markdown",
   "metadata": {
    "id": "D_0tC3SC099N"
   },
   "source": [
    "Utilize a tabela da verdade para responder: qual o valor da variável x?"
   ]
  },
  {
   "cell_type": "code",
   "execution_count": 22,
   "metadata": {
    "colab": {
     "base_uri": "https://localhost:8080/"
    },
    "id": "XwIEbxf91SpU",
    "outputId": "0027caa3-8c2d-4da3-f631-a866254d233d"
   },
   "outputs": [
    {
     "name": "stdout",
     "output_type": "stream",
     "text": [
      "True\n"
     ]
    }
   ],
   "source": [
    "a = False\n",
    "b = True\n",
    "\n",
    "x = not a & b #Seguindo a lógica: not False and True = True and True = True\n",
    "print(x)"
   ]
  }
 ],
 "metadata": {
  "colab": {
   "provenance": [],
   "toc_visible": true
  },
  "kernelspec": {
   "display_name": "Python 3 (ipykernel)",
   "language": "python",
   "name": "python3"
  },
  "language_info": {
   "codemirror_mode": {
    "name": "ipython",
    "version": 3
   },
   "file_extension": ".py",
   "mimetype": "text/x-python",
   "name": "python",
   "nbconvert_exporter": "python",
   "pygments_lexer": "ipython3",
   "version": "3.11.4"
  }
 },
 "nbformat": 4,
 "nbformat_minor": 1
}
