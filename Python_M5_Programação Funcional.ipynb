{
 "cells": [
  {
   "cell_type": "markdown",
   "metadata": {
    "id": "KJqp9AANOCtf"
   },
   "source": [
    "<img src=\"https://raw.githubusercontent.com/andre-marcos-perez/ebac-course-utils/main/media/logo/newebac_logo_black_half.png\" alt=\"ebac-logo\">\n",
    "\n",
    "---\n",
    "\n",
    "# **Módulo** | Python: Programação Funcional\n",
    "Caderno de **Exercícios**<br>\n",
    "Professor [André Perez](https://www.linkedin.com/in/andremarcosperez/)\n",
    "\n",
    "---"
   ]
  },
  {
   "cell_type": "markdown",
   "metadata": {
    "id": "d9jDtUbDOE1-"
   },
   "source": [
    "# **Tópicos**\n",
    "\n",
    "<ol type=\"1\">\n",
    "  <li>Função lambda;</li>\n",
    "  <li>Função map;</li>\n",
    "  <li>Função filter;</li>\n",
    "  <li>Função reduce.</li>\n",
    "</ol>"
   ]
  },
  {
   "cell_type": "markdown",
   "metadata": {
    "id": "SmoHgt-lwkpD"
   },
   "source": [
    "---"
   ]
  },
  {
   "cell_type": "markdown",
   "metadata": {
    "id": "GABI6OW8OfQ2"
   },
   "source": [
    "# **Exercícios**"
   ]
  },
  {
   "cell_type": "markdown",
   "metadata": {
    "id": "muD1vxozykSC"
   },
   "source": [
    "## 0\\. Preparação do ambiente"
   ]
  },
  {
   "cell_type": "markdown",
   "metadata": {
    "id": "ahrFfCuBxJKs"
   },
   "source": [
    "Neste exercício vamos trabalhar com o arquivo csv com dados de crédito, definido abaixo. Execute cada uma das células de código para escrever os arquivos na sua máquina virtual."
   ]
  },
  {
   "cell_type": "code",
   "execution_count": 1,
   "metadata": {
    "colab": {
     "base_uri": "https://localhost:8080/"
    },
    "id": "Kjt3HvFX7C3A",
    "outputId": "b975b9d6-7936-4472-88ab-8b327cfb18e1"
   },
   "outputs": [
    {
     "name": "stdout",
     "output_type": "stream",
     "text": [
      "Writing credito.csv\n"
     ]
    }
   ],
   "source": [
    "%%writefile credito.csv\n",
    "id_vendedor,valor_emprestimos,quantidade_emprestimos,data\n",
    "104271,448.0,1,20161208\n",
    "21476,826.7,3,20161208\n",
    "87440,313.6,3,20161208\n",
    "15980,-8008.0,6,20161208\n",
    "215906,2212.0,5,20161208\n",
    "33696,2771.3,2,20161208\n",
    "33893,2240.0,3,20161208\n",
    "214946,-4151.0,18,20161208\n",
    "123974,2021.95,2,20161208\n",
    "225870,4039.0,2,20161208"
   ]
  },
  {
   "cell_type": "markdown",
   "metadata": {
    "id": "tnhM9v2X7yGS"
   },
   "source": [
    "Vamos ler o conteúdo do arquivo em uma lista onde cada elemento é um dicionário representando as linhas do arquivo."
   ]
  },
  {
   "cell_type": "code",
   "execution_count": 2,
   "metadata": {
    "id": "T00Y_WIh7uPU"
   },
   "outputs": [],
   "source": [
    "emprestimos = []\n",
    "with open(file='./credito.csv', mode='r', encoding='utf8') as fp:\n",
    "  fp.readline() # cabeçalho\n",
    "  linha = fp.readline()\n",
    "  while linha:\n",
    "    linha_emprestimo = {}\n",
    "    linha_elementos = linha.strip().split(sep=',')\n",
    "    linha_emprestimo['id_vendedor'] = linha_elementos[0]\n",
    "    linha_emprestimo['valor_emprestimos'] = linha_elementos[1]\n",
    "    linha_emprestimo['quantidade_emprestimos'] = linha_elementos[2]\n",
    "    linha_emprestimo['data'] = linha_elementos[3]\n",
    "    emprestimos.append(linha_emprestimo)\n",
    "    linha = fp.readline()"
   ]
  },
  {
   "cell_type": "code",
   "execution_count": 3,
   "metadata": {
    "colab": {
     "base_uri": "https://localhost:8080/"
    },
    "id": "Bp0ZgdTM84bw",
    "outputId": "1fbba684-1e4e-4de5-c4a6-7d7cc65445e9"
   },
   "outputs": [
    {
     "name": "stdout",
     "output_type": "stream",
     "text": [
      "{'id_vendedor': '104271', 'valor_emprestimos': '448.0', 'quantidade_emprestimos': '1', 'data': '20161208'}\n",
      "{'id_vendedor': '21476', 'valor_emprestimos': '826.7', 'quantidade_emprestimos': '3', 'data': '20161208'}\n",
      "{'id_vendedor': '87440', 'valor_emprestimos': '313.6', 'quantidade_emprestimos': '3', 'data': '20161208'}\n",
      "{'id_vendedor': '15980', 'valor_emprestimos': '-8008.0', 'quantidade_emprestimos': '6', 'data': '20161208'}\n",
      "{'id_vendedor': '215906', 'valor_emprestimos': '2212.0', 'quantidade_emprestimos': '5', 'data': '20161208'}\n",
      "{'id_vendedor': '33696', 'valor_emprestimos': '2771.3', 'quantidade_emprestimos': '2', 'data': '20161208'}\n",
      "{'id_vendedor': '33893', 'valor_emprestimos': '2240.0', 'quantidade_emprestimos': '3', 'data': '20161208'}\n",
      "{'id_vendedor': '214946', 'valor_emprestimos': '-4151.0', 'quantidade_emprestimos': '18', 'data': '20161208'}\n",
      "{'id_vendedor': '123974', 'valor_emprestimos': '2021.95', 'quantidade_emprestimos': '2', 'data': '20161208'}\n",
      "{'id_vendedor': '225870', 'valor_emprestimos': '4039.0', 'quantidade_emprestimos': '2', 'data': '20161208'}\n"
     ]
    }
   ],
   "source": [
    "for emprestimo in emprestimos:\n",
    "  print(emprestimo)"
   ]
  },
  {
   "cell_type": "markdown",
   "metadata": {
    "id": "KI9zQRT2xa7m"
   },
   "source": [
    "## 1\\. Função `map`\n",
    "\n"
   ]
  },
  {
   "cell_type": "markdown",
   "metadata": {
    "id": "U63MjM7H7o1Y"
   },
   "source": [
    "Aplique a função map na lista de `emprestimos` para extrair os valores da chave `valor_emprestimos` na lista `valor_emprestimos_lista`. Faça também a conversão de `str` para `float`."
   ]
  },
  {
   "cell_type": "code",
   "execution_count": 20,
   "metadata": {
    "id": "-yAW4PJh9h7a"
   },
   "outputs": [],
   "source": [
    "valor_emprestimos_lista = list(map(lambda emprestimos: float(emprestimos['valor_emprestimos']), emprestimos))"
   ]
  },
  {
   "cell_type": "code",
   "execution_count": 21,
   "metadata": {
    "colab": {
     "base_uri": "https://localhost:8080/"
    },
    "id": "MQUvYdzJ9ndC",
    "outputId": "1ec75c4c-3dd2-489c-9b0f-24ddb6dfa9f0"
   },
   "outputs": [
    {
     "name": "stdout",
     "output_type": "stream",
     "text": [
      "[448.0, 826.7, 313.6, -8008.0, 2212.0, 2771.3, 2240.0, -4151.0, 2021.95, 4039.0]\n"
     ]
    }
   ],
   "source": [
    "print(valor_emprestimos_lista) # [448.0, 826.7, ..., 4039.0]"
   ]
  },
  {
   "cell_type": "markdown",
   "metadata": {
    "id": "zMN1Q3jdwoJm"
   },
   "source": [
    "---"
   ]
  },
  {
   "cell_type": "markdown",
   "metadata": {
    "id": "WKHvMtFX_JKH"
   },
   "source": [
    "## 2\\. Função `filter`\n",
    "\n"
   ]
  },
  {
   "cell_type": "markdown",
   "metadata": {
    "id": "6V34N3Lf_gUM"
   },
   "source": [
    "Aplique a função filter na lista de `valor_emprestimos_lista` para filtrar apenas os valores maiores que zero (os valores negativas são erros na base de dados). Salve os valores na lista `valor_emprestimos_lista_filtrada`."
   ]
  },
  {
   "cell_type": "code",
   "execution_count": 22,
   "metadata": {
    "id": "3y7Vmm0yACuk"
   },
   "outputs": [],
   "source": [
    "valor_emprestimos_lista_filtrada = list(filter(lambda valor: valor > 0, valor_emprestimos_lista))"
   ]
  },
  {
   "cell_type": "code",
   "execution_count": 23,
   "metadata": {
    "colab": {
     "base_uri": "https://localhost:8080/"
    },
    "id": "socxMS6NADsM",
    "outputId": "4f4fb786-8180-45d8-8775-8cd9365240c7"
   },
   "outputs": [
    {
     "name": "stdout",
     "output_type": "stream",
     "text": [
      "[448.0, 826.7, 313.6, 2212.0, 2771.3, 2240.0, 2021.95, 4039.0]\n"
     ]
    }
   ],
   "source": [
    "print(valor_emprestimos_lista_filtrada) # [448.0, 826.7, ..., 4039.0]"
   ]
  },
  {
   "cell_type": "markdown",
   "metadata": {
    "id": "4yqCAVCo_Yp3"
   },
   "source": [
    "---"
   ]
  },
  {
   "cell_type": "markdown",
   "metadata": {
    "id": "s4TzfRxC_Yp4"
   },
   "source": [
    "## 3\\. Função `reduce`\n",
    "\n"
   ]
  },
  {
   "cell_type": "markdown",
   "metadata": {
    "id": "RwV4V7gDAWfJ"
   },
   "source": [
    "Com a nossa lista de valores de emprestimo pronta, vamos extrair algumas métricas."
   ]
  },
  {
   "cell_type": "markdown",
   "metadata": {
    "id": "zjXA6H0LAf1_"
   },
   "source": [
    "### 3\\.1\\. Função `reduce` para extrair a **soma**"
   ]
  },
  {
   "cell_type": "markdown",
   "metadata": {
    "id": "u1kxPpkUArKw"
   },
   "source": [
    "Aplique a função reduce para somar os elementos da lista `valor_emprestimos_lista_filtrada` na variavel `soma_valor_emprestimos`."
   ]
  },
  {
   "cell_type": "code",
   "execution_count": 24,
   "metadata": {
    "id": "ptAFEVpMAr6_"
   },
   "outputs": [],
   "source": [
    "from functools import reduce\n",
    "\n",
    "soma_valor_emprestimos = reduce(lambda x, y: x + y, valor_emprestimos_lista_filtrada)"
   ]
  },
  {
   "cell_type": "code",
   "execution_count": 25,
   "metadata": {
    "colab": {
     "base_uri": "https://localhost:8080/"
    },
    "id": "fPosL2LZBDxz",
    "outputId": "3ff09339-c3d6-49c5-8576-00661dc23ed1"
   },
   "outputs": [
    {
     "name": "stdout",
     "output_type": "stream",
     "text": [
      "14872.550000000001\n"
     ]
    }
   ],
   "source": [
    "print(soma_valor_emprestimos) # 14872.550000000001"
   ]
  },
  {
   "cell_type": "markdown",
   "metadata": {
    "id": "v8h9TkYqBLPn"
   },
   "source": [
    "### 3\\.2\\. Função `reduce` para extrair a **media aritimética**"
   ]
  },
  {
   "cell_type": "markdown",
   "metadata": {
    "id": "VXsNI53NBLPo"
   },
   "source": [
    "Aplique a função reduce para extrair a média aritimética (mais informações [aqui](https://pt.wikipedia.org/wiki/M%C3%A9dia#M%C3%A9dia_aritm%C3%A9tica)) dos elementos da lista `valor_emprestimos_lista_filtrada` na variavel `media_valor_emprestimos`.\n",
    "\n",
    "Dica: Para calcular o tamanho da lista, isto é a quantidade de elementos, utilize a função len(), dentro do argumento da função coloque a lista `valor_emprestimos_lista_filtrada`."
   ]
  },
  {
   "cell_type": "code",
   "execution_count": 26,
   "metadata": {
    "id": "qbWv8a2GBLPp"
   },
   "outputs": [],
   "source": [
    "from functools import reduce\n",
    "\n",
    "media_valor_emprestimos = reduce(lambda x, y: x + y, valor_emprestimos_lista_filtrada) / len(valor_emprestimos_lista_filtrada)"
   ]
  },
  {
   "cell_type": "code",
   "execution_count": 27,
   "metadata": {
    "colab": {
     "base_uri": "https://localhost:8080/"
    },
    "id": "V-hh5hCKBLPr",
    "outputId": "4020ad75-9428-4e0a-fc2a-86cec365e823"
   },
   "outputs": [
    {
     "name": "stdout",
     "output_type": "stream",
     "text": [
      "1859.0687500000001\n"
     ]
    }
   ],
   "source": [
    "print(media_valor_emprestimos) # 1859.0687500000001"
   ]
  },
  {
   "cell_type": "markdown",
   "metadata": {
    "id": "rCwM3DcJBeyB"
   },
   "source": [
    "### 3\\.3\\. (**Desafio**) Função `reduce` para extrair o **desvio padrão amostral**"
   ]
  },
  {
   "cell_type": "markdown",
   "metadata": {
    "id": "jw3azoT_BeyC"
   },
   "source": [
    "Aplique a função reduce para extrair a média aritimética (mais informações [aqui](https://pt.wikipedia.org/wiki/M%C3%A9dia#M%C3%A9dia_aritm%C3%A9tica)) dos elementos da lista `valor_emprestimos_lista_filtrada` na variavel `desvio_padrao_valor_emprestimos`.\n",
    "\n"
   ]
  },
  {
   "cell_type": "code",
   "execution_count": 46,
   "metadata": {
    "colab": {
     "base_uri": "https://localhost:8080/"
    },
    "id": "8HnNxp9mBeyD",
    "outputId": "fa31bee6-92eb-4e8e-ace9-64a79a6c6260"
   },
   "outputs": [
    {
     "name": "stdout",
     "output_type": "stream",
     "text": [
      "[1991115.0172265628, 1065785.2359765626, 2388473.6572265625, 124560.46722656241, 832165.8534765625, 145108.6172265624, 26530.30160156247, 4752100.254726561]\n"
     ]
    }
   ],
   "source": [
    "from functools import reduce\n",
    "\n",
    "\n",
    "lista = list(map(lambda x: pow(x - media_valor_emprestimos,2), valor_emprestimos_lista_filtrada))\n",
    "desvio_padrao_valor_emprestimos = pow(reduce(lambda x, y: x + y, lista) / (len(valor_emprestimos_lista_filtrada)-1),0.5)"
   ]
  },
  {
   "cell_type": "code",
   "execution_count": 47,
   "metadata": {
    "colab": {
     "base_uri": "https://localhost:8080/"
    },
    "id": "3dDC-KRYBeyE",
    "outputId": "fbec4003-0b36-4a31-f8fd-86cfa17d65f9"
   },
   "outputs": [
    {
     "name": "stdout",
     "output_type": "stream",
     "text": [
      "1271.9972711497849\n"
     ]
    }
   ],
   "source": [
    "print(desvio_padrao_valor_emprestimos) # 1271.997271149785"
   ]
  },
  {
   "cell_type": "markdown",
   "metadata": {
    "id": "ai2mZYnG_b_s"
   },
   "source": [
    "---"
   ]
  }
 ],
 "metadata": {
  "colab": {
   "provenance": [],
   "toc_visible": true
  },
  "kernelspec": {
   "display_name": "Python 3 (ipykernel)",
   "language": "python",
   "name": "python3"
  },
  "language_info": {
   "codemirror_mode": {
    "name": "ipython",
    "version": 3
   },
   "file_extension": ".py",
   "mimetype": "text/x-python",
   "name": "python",
   "nbconvert_exporter": "python",
   "pygments_lexer": "ipython3",
   "version": "3.11.4"
  }
 },
 "nbformat": 4,
 "nbformat_minor": 1
}
